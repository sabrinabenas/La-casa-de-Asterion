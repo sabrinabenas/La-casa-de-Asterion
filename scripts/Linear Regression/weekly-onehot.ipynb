{
 "cells": [
  {
   "cell_type": "code",
   "execution_count": 27,
   "id": "e9f82b69",
   "metadata": {},
   "outputs": [],
   "source": [
    "from dataclasses import dataclass, field\n",
    "\n",
    "import numpy as np\n",
    "import polars as pl\n",
    "from sklearn.compose import ColumnTransformer\n",
    "from sklearn.linear_model import LinearRegression\n",
    "from sklearn.pipeline import Pipeline, make_pipeline\n",
    "from sklearn.preprocessing import OneHotEncoder\n",
    "\n",
    "\n",
    "@dataclass\n",
    "class Model:\n",
    "    df: pl.LazyFrame\n",
    "    columns: list[str]\n",
    "    zeros: bool = True\n",
    "    pipeline: Pipeline = field(init=False)\n",
    "\n",
    "    def __post_init__(self):\n",
    "        self.pipeline = self._get_model()\n",
    "\n",
    "    def fit(self, start_date, end_date, *, zeros: bool | None = None):\n",
    "        data = self._get_data(start_date, end_date, zeros=zeros)\n",
    "        X, y = self._split_Xy(data)\n",
    "        self.pipeline.fit(X, y)\n",
    "        return self\n",
    "\n",
    "    def predict(self, start_date, end_date, *, zeros: bool | None = None):\n",
    "        data = self._get_data(start_date, end_date, zeros=zeros)\n",
    "        X, y = self._split_Xy(data)\n",
    "        return self.pipeline.predict(X)\n",
    "\n",
    "    def score(self, start_date, end_date, *, zeros: bool | None = None):\n",
    "        data = self._get_data(start_date, end_date, zeros=zeros)\n",
    "        X, y = self._split_Xy(data)\n",
    "        return self.pipeline.score(X, y)\n",
    "\n",
    "    def _get_categories(self, name: str):\n",
    "        return self.df.select(pl.col(name).cat.get_categories())\n",
    "\n",
    "    def _get_zeros(self, date_range):\n",
    "        dates = pl.DataFrame({\"date\": date_range}).lazy()\n",
    "        for name in self.columns:\n",
    "            cats = self._get_categories(name).cast({name: pl.Categorical})\n",
    "            dates = dates.join(cats, how=\"cross\")\n",
    "        return dates\n",
    "\n",
    "    def _get_data(self, start_date, end_date, *, zeros: bool | None):\n",
    "        if zeros is None:\n",
    "            zeros = self.zeros\n",
    "        data = (\n",
    "            self.df.group_by(\"date\", *self.columns)\n",
    "            .agg(pl.col(\"total_sales\").sum())\n",
    "            .sort(\"date\")\n",
    "            .filter(pl.col(\"date\").is_between(start_date, end_date))\n",
    "        )\n",
    "        if zeros:\n",
    "            data = self._get_zeros(\n",
    "                pl.date_range(start_date, end_date, eager=True)\n",
    "            ).join(data, on=[\"date\", *self.columns], how=\"left\")\n",
    "        return data.with_columns(\n",
    "            pl.col(\"total_sales\").fill_null(0.0),\n",
    "            weekday=pl.col(name=\"date\").dt.weekday(),\n",
    "        ).collect()\n",
    "\n",
    "    def _split_Xy(self, df: pl.DataFrame):\n",
    "        X = df.select(\"date\", \"weekday\", *self.columns).to_pandas()\n",
    "        y = df.select(\"total_sales\").to_pandas()\n",
    "        return X, y\n",
    "\n",
    "    def _get_model(self):\n",
    "        pipeline = make_pipeline(\n",
    "            ColumnTransformer(\n",
    "                [\n",
    "                    (\n",
    "                        \"encode\",\n",
    "                        OneHotEncoder(\n",
    "                            categories=[np.arange(1, 8)]\n",
    "                            + [\n",
    "                                self._get_categories(c).collect().to_series().to_list()\n",
    "                                for c in self.columns\n",
    "                            ]\n",
    "                        ),\n",
    "                        [\"weekday\", *self.columns],\n",
    "                    ),\n",
    "                ]\n",
    "            ),\n",
    "            LinearRegression(fit_intercept=True),\n",
    "        )\n",
    "        return pipeline\n",
    "\n",
    "\n",
    "df = pl.scan_parquet(\"../data/wide.parquet\")"
   ]
  },
  {
   "cell_type": "code",
   "execution_count": 51,
   "id": "107cfd5d",
   "metadata": {},
   "outputs": [
    {
     "data": {
      "text/plain": [
       "0.17494030501152436"
      ]
     },
     "execution_count": 51,
     "metadata": {},
     "output_type": "execute_result"
    }
   ],
   "source": [
    "model = Model(df, [\"store_id\", \"subgroup\"])\n",
    "date = pl.date(2023, 1, 1)\n",
    "model.fit(date - pl.duration(days=7), date)\n",
    "model.score(date, date + pl.duration(days=7))"
   ]
  },
  {
   "cell_type": "code",
   "execution_count": 2,
   "id": "b44ab3ed",
   "metadata": {},
   "outputs": [
    {
     "data": {
      "text/html": [
       "<div><style>\n",
       ".dataframe > thead > tr,\n",
       ".dataframe > tbody > tr {\n",
       "  text-align: right;\n",
       "  white-space: pre-wrap;\n",
       "}\n",
       "</style>\n",
       "<small>shape: (77_700, 5)</small><table border=\"1\" class=\"dataframe\"><thead><tr><th>STORE_SUBGROUP_DATE_ID</th><th>store_id</th><th>subgroup</th><th>date</th><th>weekday</th></tr><tr><td>str</td><td>cat</td><td>cat</td><td>date</td><td>i8</td></tr></thead><tbody><tr><td>&quot;S00001_Laptops_2024-01-01&quot;</td><td>&quot;S00001&quot;</td><td>&quot;Laptops&quot;</td><td>2024-01-01</td><td>1</td></tr><tr><td>&quot;S00001_Laptops_2024-01-02&quot;</td><td>&quot;S00001&quot;</td><td>&quot;Laptops&quot;</td><td>2024-01-02</td><td>2</td></tr><tr><td>&quot;S00001_Laptops_2024-01-03&quot;</td><td>&quot;S00001&quot;</td><td>&quot;Laptops&quot;</td><td>2024-01-03</td><td>3</td></tr><tr><td>&quot;S00001_Laptops_2024-01-04&quot;</td><td>&quot;S00001&quot;</td><td>&quot;Laptops&quot;</td><td>2024-01-04</td><td>4</td></tr><tr><td>&quot;S00001_Laptops_2024-01-05&quot;</td><td>&quot;S00001&quot;</td><td>&quot;Laptops&quot;</td><td>2024-01-05</td><td>5</td></tr><tr><td>&hellip;</td><td>&hellip;</td><td>&hellip;</td><td>&hellip;</td><td>&hellip;</td></tr><tr><td>&quot;S00157_Puzzles_2024-01-03&quot;</td><td>&quot;S00157&quot;</td><td>&quot;Puzzles&quot;</td><td>2024-01-03</td><td>3</td></tr><tr><td>&quot;S00157_Puzzles_2024-01-04&quot;</td><td>&quot;S00157&quot;</td><td>&quot;Puzzles&quot;</td><td>2024-01-04</td><td>4</td></tr><tr><td>&quot;S00157_Puzzles_2024-01-05&quot;</td><td>&quot;S00157&quot;</td><td>&quot;Puzzles&quot;</td><td>2024-01-05</td><td>5</td></tr><tr><td>&quot;S00157_Puzzles_2024-01-06&quot;</td><td>&quot;S00157&quot;</td><td>&quot;Puzzles&quot;</td><td>2024-01-06</td><td>6</td></tr><tr><td>&quot;S00157_Puzzles_2024-01-07&quot;</td><td>&quot;S00157&quot;</td><td>&quot;Puzzles&quot;</td><td>2024-01-07</td><td>7</td></tr></tbody></table></div>"
      ],
      "text/plain": [
       "shape: (77_700, 5)\n",
       "┌───────────────────────────┬──────────┬──────────┬────────────┬─────────┐\n",
       "│ STORE_SUBGROUP_DATE_ID    ┆ store_id ┆ subgroup ┆ date       ┆ weekday │\n",
       "│ ---                       ┆ ---      ┆ ---      ┆ ---        ┆ ---     │\n",
       "│ str                       ┆ cat      ┆ cat      ┆ date       ┆ i8      │\n",
       "╞═══════════════════════════╪══════════╪══════════╪════════════╪═════════╡\n",
       "│ S00001_Laptops_2024-01-01 ┆ S00001   ┆ Laptops  ┆ 2024-01-01 ┆ 1       │\n",
       "│ S00001_Laptops_2024-01-02 ┆ S00001   ┆ Laptops  ┆ 2024-01-02 ┆ 2       │\n",
       "│ S00001_Laptops_2024-01-03 ┆ S00001   ┆ Laptops  ┆ 2024-01-03 ┆ 3       │\n",
       "│ S00001_Laptops_2024-01-04 ┆ S00001   ┆ Laptops  ┆ 2024-01-04 ┆ 4       │\n",
       "│ S00001_Laptops_2024-01-05 ┆ S00001   ┆ Laptops  ┆ 2024-01-05 ┆ 5       │\n",
       "│ …                         ┆ …        ┆ …        ┆ …          ┆ …       │\n",
       "│ S00157_Puzzles_2024-01-03 ┆ S00157   ┆ Puzzles  ┆ 2024-01-03 ┆ 3       │\n",
       "│ S00157_Puzzles_2024-01-04 ┆ S00157   ┆ Puzzles  ┆ 2024-01-04 ┆ 4       │\n",
       "│ S00157_Puzzles_2024-01-05 ┆ S00157   ┆ Puzzles  ┆ 2024-01-05 ┆ 5       │\n",
       "│ S00157_Puzzles_2024-01-06 ┆ S00157   ┆ Puzzles  ┆ 2024-01-06 ┆ 6       │\n",
       "│ S00157_Puzzles_2024-01-07 ┆ S00157   ┆ Puzzles  ┆ 2024-01-07 ┆ 7       │\n",
       "└───────────────────────────┴──────────┴──────────┴────────────┴─────────┘"
      ]
     },
     "execution_count": 2,
     "metadata": {},
     "output_type": "execute_result"
    }
   ],
   "source": [
    "df_test = (\n",
    "    pl.scan_csv(\"../data/ids_test.csv\")\n",
    "    .with_columns(\n",
    "        pl.col(\"STORE_SUBGROUP_DATE_ID\")\n",
    "        .str.split_exact(\"_\", 3)\n",
    "        .struct.rename_fields([\"store_id\", \"subgroup\", \"date\"])\n",
    "        .struct.unnest()\n",
    "    )\n",
    "    .with_columns(pl.col(\"subgroup\").str.replace(\"Basketball\", \"Baseball\"))\n",
    "    .with_columns(\n",
    "        pl.col(\"store_id\").cast(pl.Categorical),\n",
    "        pl.col(\"subgroup\").cast(pl.Categorical),\n",
    "        pl.col(\"date\").cast(pl.Date),\n",
    "    )\n",
    "    .with_columns(weekday=pl.col(\"date\").dt.weekday())\n",
    "    .collect()\n",
    ")\n",
    "\n",
    "df_test"
   ]
  },
  {
   "cell_type": "code",
   "execution_count": 13,
   "id": "5f42be43",
   "metadata": {},
   "outputs": [
    {
     "data": {
      "text/plain": [
       "0.1638075850980094"
      ]
     },
     "execution_count": 13,
     "metadata": {},
     "output_type": "execute_result"
    }
   ],
   "source": [
    "date = pl.date(2023, 12, 25)\n",
    "model.fit(date, date + pl.duration(days=7))\n",
    "model.score(date, date + pl.duration(days=7))"
   ]
  },
  {
   "cell_type": "code",
   "execution_count": 14,
   "id": "e43a9964",
   "metadata": {},
   "outputs": [
    {
     "data": {
      "text/html": [
       "<div><style>\n",
       ".dataframe > thead > tr,\n",
       ".dataframe > tbody > tr {\n",
       "  text-align: right;\n",
       "  white-space: pre-wrap;\n",
       "}\n",
       "</style>\n",
       "<small>shape: (77_700, 6)</small><table border=\"1\" class=\"dataframe\"><thead><tr><th>STORE_SUBGROUP_DATE_ID</th><th>store_id</th><th>subgroup</th><th>date</th><th>weekday</th><th>predict</th></tr><tr><td>str</td><td>cat</td><td>cat</td><td>date</td><td>i8</td><td>f64</td></tr></thead><tbody><tr><td>&quot;S00001_Laptops_2024-01-01&quot;</td><td>&quot;S00001&quot;</td><td>&quot;Laptops&quot;</td><td>2024-01-01</td><td>1</td><td>394.960479</td></tr><tr><td>&quot;S00001_Laptops_2024-01-02&quot;</td><td>&quot;S00001&quot;</td><td>&quot;Laptops&quot;</td><td>2024-01-02</td><td>2</td><td>457.726155</td></tr><tr><td>&quot;S00001_Laptops_2024-01-03&quot;</td><td>&quot;S00001&quot;</td><td>&quot;Laptops&quot;</td><td>2024-01-03</td><td>3</td><td>460.091836</td></tr><tr><td>&quot;S00001_Laptops_2024-01-04&quot;</td><td>&quot;S00001&quot;</td><td>&quot;Laptops&quot;</td><td>2024-01-04</td><td>4</td><td>461.10092</td></tr><tr><td>&quot;S00001_Laptops_2024-01-05&quot;</td><td>&quot;S00001&quot;</td><td>&quot;Laptops&quot;</td><td>2024-01-05</td><td>5</td><td>451.168731</td></tr><tr><td>&hellip;</td><td>&hellip;</td><td>&hellip;</td><td>&hellip;</td><td>&hellip;</td><td>&hellip;</td></tr><tr><td>&quot;S00157_Puzzles_2024-01-03&quot;</td><td>&quot;S00157&quot;</td><td>&quot;Puzzles&quot;</td><td>2024-01-03</td><td>3</td><td>54.88456</td></tr><tr><td>&quot;S00157_Puzzles_2024-01-04&quot;</td><td>&quot;S00157&quot;</td><td>&quot;Puzzles&quot;</td><td>2024-01-04</td><td>4</td><td>55.893644</td></tr><tr><td>&quot;S00157_Puzzles_2024-01-05&quot;</td><td>&quot;S00157&quot;</td><td>&quot;Puzzles&quot;</td><td>2024-01-05</td><td>5</td><td>45.961455</td></tr><tr><td>&quot;S00157_Puzzles_2024-01-06&quot;</td><td>&quot;S00157&quot;</td><td>&quot;Puzzles&quot;</td><td>2024-01-06</td><td>6</td><td>52.168176</td></tr><tr><td>&quot;S00157_Puzzles_2024-01-07&quot;</td><td>&quot;S00157&quot;</td><td>&quot;Puzzles&quot;</td><td>2024-01-07</td><td>7</td><td>52.027425</td></tr></tbody></table></div>"
      ],
      "text/plain": [
       "shape: (77_700, 6)\n",
       "┌───────────────────────────┬──────────┬──────────┬────────────┬─────────┬────────────┐\n",
       "│ STORE_SUBGROUP_DATE_ID    ┆ store_id ┆ subgroup ┆ date       ┆ weekday ┆ predict    │\n",
       "│ ---                       ┆ ---      ┆ ---      ┆ ---        ┆ ---     ┆ ---        │\n",
       "│ str                       ┆ cat      ┆ cat      ┆ date       ┆ i8      ┆ f64        │\n",
       "╞═══════════════════════════╪══════════╪══════════╪════════════╪═════════╪════════════╡\n",
       "│ S00001_Laptops_2024-01-01 ┆ S00001   ┆ Laptops  ┆ 2024-01-01 ┆ 1       ┆ 394.960479 │\n",
       "│ S00001_Laptops_2024-01-02 ┆ S00001   ┆ Laptops  ┆ 2024-01-02 ┆ 2       ┆ 457.726155 │\n",
       "│ S00001_Laptops_2024-01-03 ┆ S00001   ┆ Laptops  ┆ 2024-01-03 ┆ 3       ┆ 460.091836 │\n",
       "│ S00001_Laptops_2024-01-04 ┆ S00001   ┆ Laptops  ┆ 2024-01-04 ┆ 4       ┆ 461.10092  │\n",
       "│ S00001_Laptops_2024-01-05 ┆ S00001   ┆ Laptops  ┆ 2024-01-05 ┆ 5       ┆ 451.168731 │\n",
       "│ …                         ┆ …        ┆ …        ┆ …          ┆ …       ┆ …          │\n",
       "│ S00157_Puzzles_2024-01-03 ┆ S00157   ┆ Puzzles  ┆ 2024-01-03 ┆ 3       ┆ 54.88456   │\n",
       "│ S00157_Puzzles_2024-01-04 ┆ S00157   ┆ Puzzles  ┆ 2024-01-04 ┆ 4       ┆ 55.893644  │\n",
       "│ S00157_Puzzles_2024-01-05 ┆ S00157   ┆ Puzzles  ┆ 2024-01-05 ┆ 5       ┆ 45.961455  │\n",
       "│ S00157_Puzzles_2024-01-06 ┆ S00157   ┆ Puzzles  ┆ 2024-01-06 ┆ 6       ┆ 52.168176  │\n",
       "│ S00157_Puzzles_2024-01-07 ┆ S00157   ┆ Puzzles  ┆ 2024-01-07 ┆ 7       ┆ 52.027425  │\n",
       "└───────────────────────────┴──────────┴──────────┴────────────┴─────────┴────────────┘"
      ]
     },
     "execution_count": 14,
     "metadata": {},
     "output_type": "execute_result"
    }
   ],
   "source": [
    "X_test = df_test.to_pandas()\n",
    "y_test = model.pipeline.predict(X_test)\n",
    "df_test = df_test.with_columns(predict=y_test.squeeze())\n",
    "df_test"
   ]
  }
 ],
 "metadata": {
  "kernelspec": {
   "display_name": "default",
   "language": "python",
   "name": "python3"
  },
  "language_info": {
   "codemirror_mode": {
    "name": "ipython",
    "version": 3
   },
   "file_extension": ".py",
   "mimetype": "text/x-python",
   "name": "python",
   "nbconvert_exporter": "python",
   "pygments_lexer": "ipython3",
   "version": "3.13.5"
  }
 },
 "nbformat": 4,
 "nbformat_minor": 5
}
